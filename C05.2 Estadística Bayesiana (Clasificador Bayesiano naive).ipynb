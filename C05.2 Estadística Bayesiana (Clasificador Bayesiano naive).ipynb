{
 "cells": [
  {
   "cell_type": "markdown",
   "metadata": {},
   "source": [
    "<img src=\"logo.png\">"
   ]
  },
  {
   "cell_type": "markdown",
   "metadata": {},
   "source": [
    "# Clasificador bayesiano\n",
    "\n",
    "Podemos utilizar estos clasificadores para realizar clasificación múltiple basados en probabilidades de pertenencia.\n",
    "\n",
    "Esto es: supongamos que tenemos $N$ clases $C_1$, $C_2$,...,$C_N$. Sea $\\vec{x_i}=(x_1,x_2,...,x_p)$ una registro de nuestra tabla (por lo tanto hay $p+1$ características). Entonces, por Bayes, tenemos:\n",
    "\n",
    "$$P(C_j|\\vec{x_i})=\\frac{P(C_j)}{P(\\vec{x_i})}P(\\vec{x_i}|C_j)$$"
   ]
  },
  {
   "cell_type": "markdown",
   "metadata": {},
   "source": [
    "Sin embargo, $P(\\vec{x_i}|C_j)=P((x_1,x_2,...,x_p)|C_j)$. Es decir, requeriríamos no solo de la distribución de probabilidad de cada característica, sino también de la distribución conjunta, lo cual nos lleva a un problema bastante complicado.\n",
    "\n",
    "Lo que el Clasificador bayesiano naive hace es suponer que hay independencia entre las caracterías (lo cual es **una suposición muy fuerte**). Es decir, $P((x_1,x_2,...,x_p)|C_j)=P(x_1|C_j)P(x_2|C_j)...P(X_p|C_j)$\n",
    "\n",
    "Este clasificador funciona aprendiendo las probabilidades de ver cada una de las características de las observaciones de los datos de entrenamiento para cada clase y, usando el Teorema de Bayes, para predecir $P(C_j|\\vec{x_i})$."
   ]
  },
  {
   "cell_type": "markdown",
   "metadata": {},
   "source": [
    "**Ejemplo**\n",
    "\n",
    "Supongamos que queremos clasificar noticias en función de sus titulares  como **políticas** y **no políticas**. Tenemos los siguienes titulares:\n",
    "\n",
    "* T1. Clase política. \"El gobierno aprueba en Madrid el presupuesto\".\n",
    "\n",
    "* T2. Clase no política. \"El Real Madrid vence al Barcelona\"\n",
    "\n",
    "* T3. Clase política. \"El gobierno redacta el Real Decreto 2017/99\"\n",
    "\n",
    "* T4. Clase no política. \"El Barcelona vence al Manchester\"\n",
    "\n",
    "En primer lugar, entrenamos al modelo con los datos de entrenamiento (aquí todo el entrenamiento serán los cuatro titulares; recuerda que en la práctica debes partir tu tabla original en entrenamiento y prueba). Para ello, \"vectorizamos\" las frases: \n",
    "\n",
    "<img src=\"ml18.png\">"
   ]
  },
  {
   "cell_type": "markdown",
   "metadata": {},
   "source": [
    "Ahora nos llega el titular T5: \"La Junta de Gobierno se reune en Madrid\". ¿A qué clase pertenece?\n",
    "\n",
    "Por Bayes tenemos:\n",
    "$$P(C_1|T5)=\\frac{P(C_1)}{P(T5)}P(T5|C_1)=\\frac{0.5}{P(T5)}P(gobierno|C_1)P(madrid|C_1)=\\frac{0.5*1*0.5}{P(T5)}=\\frac{0.25}{P(T5)}$$\n",
    "\n",
    "$$P(C_2|T5)=\\frac{P(C_2)}{P(T5)}P(T5|C_2)=\\frac{0.5}{P(T5)}P(gobierno|C_2)P(madrid|C_2)=\\frac{0*1*0.5}{P(T5)}=\\frac{0}{P(T5)}$$"
   ]
  },
  {
   "cell_type": "markdown",
   "metadata": {},
   "source": [
    "Concluimos que T5 es elemento de C1. Es decir, \"La Junta de Gobierno se reune en Madrid\" es un titular de tipo político."
   ]
  }
 ],
 "metadata": {
  "kernelspec": {
   "display_name": "Python 3",
   "language": "python",
   "name": "python3"
  },
  "language_info": {
   "codemirror_mode": {
    "name": "ipython",
    "version": 3
   },
   "file_extension": ".py",
   "mimetype": "text/x-python",
   "name": "python",
   "nbconvert_exporter": "python",
   "pygments_lexer": "ipython3",
   "version": "3.7.7"
  }
 },
 "nbformat": 4,
 "nbformat_minor": 4
}
