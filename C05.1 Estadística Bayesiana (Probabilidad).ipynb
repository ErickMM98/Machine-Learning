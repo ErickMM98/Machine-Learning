{
 "cells": [
  {
   "cell_type": "markdown",
   "metadata": {},
   "source": [
    "<img src=\"logo.png\">"
   ]
  },
  {
   "cell_type": "markdown",
   "metadata": {},
   "source": [
    "# Probabilidad\n",
    "\n",
    "La probabilidad es una medida de la certidumbre asociada a un suceso o evento y suele expresarse como un número entre 0 y 1 (o entre 0% y 100%).\n",
    "\n",
    "**Ejemplo.**\n",
    "Se lanza un dado de seis caras equilibrado. Se define el evento $A$ como $A=\"\\mbox{Se obtiene un 1}\"$. Entonces $P(A)=\\frac{1}{6}$. Esto porque hay seis posibles resultados para el lanzamiento del dado.\n",
    "\n",
    "Muchas veces lo anterior se puede expresar mediante la **Regla de Laplace**:\n",
    "\n",
    "$$\\mbox{La probabilidad de un evento }A=\\frac{\\mbox{Casos favorables}}{\\mbox{Casos posibles}}$$\n",
    "\n",
    "En el caso del ejemplo, solo hay un caso favorable: que el dado arroje un 1; en tanto que hay 6 casos posibles: cada una de las caras que pueden salir. \n",
    "\n",
    "Sin embargo, la Regla de Laplace solo es válida si los eventos son *equiprobables*.\n",
    "\n",
    "\n",
    "\n",
    "\n"
   ]
  },
  {
   "cell_type": "markdown",
   "metadata": {},
   "source": [
    "## Eventos complementarios\n",
    "\n",
    "Dos eventos $A$ y $B$ se dicen complementarios si el hecho de que ocurra uno hace de inmediato que el otro no pueda ocurrir; pero no solo eso: por fuerza, uno de los dos debe ocurrir.\n",
    "\n",
    "**Ejemplo**\n",
    "\n",
    "Si $A$ es el evento \"se obtiene un 1\" y $B$ es el evento \"se obtiene 2,3,4,5 o 6\", entonces $A$ y $B$ son complementarios. \n",
    "\n",
    "En general, esta relación se denota por $B=A^c$ y además siempre se cumple que $P(A^c)=1-P(A)$."
   ]
  },
  {
   "cell_type": "markdown",
   "metadata": {},
   "source": [
    "## Probabilidad Conjunta\n",
    "\n",
    "La probabilidad conjunta de que dos eventos $A$ y $B$ sucedan es la probabilidad de que ambos sucedan simultáneamente. Se define como $P(A\\cap B)$.\n",
    "\n",
    "**Ejemplo**\n",
    "\n",
    "Se lanza un dado dos veces. $A$ es el evento \"se obtiene un 1 en el primer lanzamiento\" y $B$ es el evento \"la suma de ambos lanzamientos es 7\".\n",
    "\n",
    "Así, $P(A\\cap B)$ es la probabilidad de obtener un 1 en el primer lanzamiento y que la suma de ambos sea 7. Esto es $\\frac{1}{36}$.\n",
    "\n",
    "<img src=\"ml15.png\">\n",
    "\n"
   ]
  },
  {
   "cell_type": "markdown",
   "metadata": {},
   "source": [
    "## Unión de eventos\n",
    "\n",
    "La probabilidad de que suceda un evento $A$ **o** un evento $B$ se define como $P(A\\cup B)$. En general, esta se calcula como $P(A\\cup B)=P(A)+P(B)-P(A\\cap B)$.\n",
    "\n",
    "**Ejemplo**\n",
    "\n",
    "Si $A$ es el evento \"Se obtiene 1 en el primer lanzamiento\" y $B$ es el evento \"la suma de las dos tiradas es 7\", entonces $P(A\\cup B)=\\frac{1}{6}+\\frac{6}{36}-\\frac{1}{36}=\\frac{11}{36}$."
   ]
  },
  {
   "cell_type": "markdown",
   "metadata": {},
   "source": [
    "## Probabilidad condicional\n",
    "\n",
    "La probabilidad condicional responde a la pregunta ¿cómo cambia la probabilidad de un evento cuando tenemos información adicional?\n",
    "\n",
    "Es decir, si $A$ y $B$ son eventos, entonces la probabilidad condicional del evento $A$ dado $B$ se refiere a la probabildad de $A$ dado que se conoce que ha sucedido el evento $B$. Esto se denota por $P(A|B)$ y además se define como $$P(A|B)=\\frac{P(A\\cap B)}{P(B)}$$ siempre que $P(B)\\neq 0$.\n",
    "\n",
    "**Ejemplo**\n",
    "\n",
    "Si el evento $A$ es \"el primer lanzamiento es 1\" y $B$ es el evento \"la suma de ambos lanzamientos es 7\", entonces $P(A|B)$ significa \"¿qué tan probable es que el primer lanzamiento es 1 si sabemos que la suma de ambos ha sido 7?\"\n",
    "\n",
    "Por lo dicho anteriormente: $P(A|B)=\\frac{P(A\\cap B)}{P(B)}=\\frac{1/36}{6/36}=\\frac{1}{6}$."
   ]
  },
  {
   "cell_type": "markdown",
   "metadata": {},
   "source": [
    "## Eventos independientes\n",
    "\n",
    "Llamamos \"eventos independientes\" a aquellos en los que cuales si uno ocurre, no afecta la ocurrencia del otro:\n",
    "$$P(A_1\\cap A_2\\cap...\\cap A_n)=P(A_1)P(A_2)...P(A_n).$$\n",
    "\n",
    "Por lo tanto, si $A$ y $B$ son independientes, entonces $P(A|B)=P(A)$.\n",
    "\n",
    "\n",
    "**Ejemplo**\n",
    "\n",
    "Si $A$ es el evento \"obtener 1 en la primer tirada\" y $B$ es el evento \"obtener un número par en la segunda tirada\", entonces $A$ y $B$ son independientes.\n",
    "\n"
   ]
  },
  {
   "cell_type": "markdown",
   "metadata": {},
   "source": [
    "## Teorema de Bayes\n",
    "\n",
    "$$P(A|B)=\\frac{P(A)}{P(B)}P(B|A)$$"
   ]
  },
  {
   "cell_type": "markdown",
   "metadata": {},
   "source": [
    "<img src=\"ml16.png\">"
   ]
  },
  {
   "cell_type": "markdown",
   "metadata": {},
   "source": [
    "<img src=\"ml17.png\">"
   ]
  },
  {
   "cell_type": "markdown",
   "metadata": {},
   "source": [
    "$$P(Premio_1|Abierto_3)=\\frac{P(Premio_1)}{P(Abierto_3)}P(Abierto_3|Premio_1)$$\n",
    "\n",
    "$$P(Premio_2|Abierto_3)=\\frac{P(Premio_2)}{P(Abierto_3)}P(Abierto_3|Premio_2)$$"
   ]
  },
  {
   "cell_type": "markdown",
   "metadata": {},
   "source": [
    "Por otra parte, $P(Premio_1)=P(Premio_2)=\\frac{1}{3}$ y $P(Abierto_3)=\\frac{1}{2}$. \n",
    "\n",
    "Además, $P(Abierto_3|Premio_1)=\\frac{1}{2}$ y $P(Abierto_3|Premio_2)=1$.\n",
    "\n",
    "Por lo tanto $P(Premio_1|Abierto_3)=\\frac{P(Premio_1)}{P(Abierto_3)}P(Abierto_3|Premio_1)=\\frac{1}{3}$ y $P(Premio_2|Abierto_3)=\\frac{P(Premio_2)}{P(Abierto_3)}P(Abierto_3|Premio_2)=\\frac{2}{3}$."
   ]
  }
 ],
 "metadata": {
  "kernelspec": {
   "display_name": "Python 3",
   "language": "python",
   "name": "python3"
  },
  "language_info": {
   "codemirror_mode": {
    "name": "ipython",
    "version": 3
   },
   "file_extension": ".py",
   "mimetype": "text/x-python",
   "name": "python",
   "nbconvert_exporter": "python",
   "pygments_lexer": "ipython3",
   "version": "3.7.7"
  }
 },
 "nbformat": 4,
 "nbformat_minor": 4
}
