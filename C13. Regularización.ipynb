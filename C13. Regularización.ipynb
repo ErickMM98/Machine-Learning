{
 "cells": [
  {
   "cell_type": "markdown",
   "metadata": {},
   "source": [
    "<img src=\"logo.png\">"
   ]
  },
  {
   "cell_type": "markdown",
   "metadata": {},
   "source": [
    "# Regularización\n",
    "\n",
    "Recordemos que una regresión lineal es un modelo de la forma $$\\widehat{y}=\\alpha+\\beta_1x_1+\\beta_2x_2+...+\\beta_nx_n+\\epsilon$$ donde nuestro objetivo es hallar $\\alpha$ y $\\beta=(\\beta_1,\\beta_2,...,\\beta_n)$ que minimicen la expresión $$\\sum_{i=1}^n(y_i-\\alpha-\\beta_ix_i)^2.$$ \n",
    "\n",
    "En el caso de regresión polinomial tenemos:\n",
    "\n",
    "<img src=\"ml79.png\">"
   ]
  },
  {
   "cell_type": "markdown",
   "metadata": {},
   "source": [
    "## Sobreajuste y generalización\n",
    "\n",
    "<img src=\"ml80.png\">"
   ]
  },
  {
   "cell_type": "markdown",
   "metadata": {},
   "source": [
    "## Regularización en modelos lineales\n",
    "\n",
    "<img src=\"ml81.png\">"
   ]
  },
  {
   "cell_type": "code",
   "execution_count": null,
   "metadata": {},
   "outputs": [],
   "source": [
    "import numpy as np\n",
    "import pandas as pd\n",
    "from sklearn import metrics\n",
    "from sklearn.model_selection import cross_validate"
   ]
  },
  {
   "cell_type": "code",
   "execution_count": null,
   "metadata": {},
   "outputs": [],
   "source": [
    "vehiculos = pd.read_csv(\"vehiculos_procesado.csv\")\n",
    "datos_entrenamiento = vehiculos[[\"desplazamiento\",\"cilindros\",\"consumo\"]]\n",
    "\n",
    "objetivo = vehiculos[\"co2\"]"
   ]
  },
  {
   "cell_type": "code",
   "execution_count": null,
   "metadata": {},
   "outputs": [],
   "source": [
    "datos_entrenamiento.shape"
   ]
  },
  {
   "cell_type": "code",
   "execution_count": null,
   "metadata": {},
   "outputs": [],
   "source": [
    "datos_entrenamiento.head()"
   ]
  },
  {
   "cell_type": "code",
   "execution_count": null,
   "metadata": {},
   "outputs": [],
   "source": [
    "from sklearn.linear_model import (LinearRegression, Lasso,\n",
    "                                  Ridge, ElasticNet)\n"
   ]
  },
  {
   "cell_type": "code",
   "execution_count": null,
   "metadata": {},
   "outputs": [],
   "source": [
    "modelo_ols = LinearRegression()\n",
    "modelo_ols.fit(datos_entrenamiento, objetivo)\n",
    "\n",
    "modelo_ols.coef_"
   ]
  },
  {
   "cell_type": "markdown",
   "metadata": {},
   "source": [
    "Para medir la complejidad del modelo, vamos a usar la funcion de [`numpy.linalg.norm`](https://docs.scipy.org/doc/numpy-1.13.0/reference/generated/numpy.linalg.norm.html) que es una función que calcula varios tipos de normas."
   ]
  },
  {
   "cell_type": "code",
   "execution_count": null,
   "metadata": {},
   "outputs": [],
   "source": [
    "def norma_l1(coeficientes):\n",
    "    return np.linalg.norm(coeficientes, ord=1)\n",
    "\n",
    "def norma_l2(coeficientes):\n",
    "    return np.linalg.norm(coeficientes, ord=2)\n",
    "\n",
    "print(norma_l1(modelo_ols.coef_))\n",
    "print(norma_l2(modelo_ols.coef_))"
   ]
  },
  {
   "cell_type": "code",
   "execution_count": null,
   "metadata": {},
   "outputs": [],
   "source": [
    "def norma_l1_cv(estimator, X, y):\n",
    "    return norma_l1(estimator.coef_)\n",
    "\n",
    "def norma_l2_cv(estimator, X, y):\n",
    "    return norma_l2(estimator.coef_)"
   ]
  },
  {
   "cell_type": "code",
   "execution_count": null,
   "metadata": {},
   "outputs": [],
   "source": [
    "from sklearn.preprocessing import PolynomialFeatures"
   ]
  },
  {
   "cell_type": "code",
   "execution_count": null,
   "metadata": {},
   "outputs": [],
   "source": [
    "PolynomialFeatures?"
   ]
  },
  {
   "cell_type": "code",
   "execution_count": null,
   "metadata": {},
   "outputs": [],
   "source": [
    "transformador_polinomial = PolynomialFeatures(5)"
   ]
  },
  {
   "cell_type": "code",
   "execution_count": null,
   "metadata": {},
   "outputs": [],
   "source": [
    "transformador_polinomial.fit(datos_entrenamiento)"
   ]
  },
  {
   "cell_type": "code",
   "execution_count": null,
   "metadata": {},
   "outputs": [],
   "source": [
    "transformador_polinomial?"
   ]
  },
  {
   "cell_type": "code",
   "execution_count": null,
   "metadata": {},
   "outputs": [],
   "source": [
    "variables_polinomiales = transformador_polinomial.transform(\n",
    "    datos_entrenamiento)"
   ]
  },
  {
   "cell_type": "code",
   "execution_count": null,
   "metadata": {},
   "outputs": [],
   "source": [
    "variables_polinomiales?"
   ]
  },
  {
   "cell_type": "code",
   "execution_count": null,
   "metadata": {},
   "outputs": [],
   "source": [
    "variables_polinomiales.shape"
   ]
  },
  {
   "cell_type": "code",
   "execution_count": null,
   "metadata": {},
   "outputs": [],
   "source": [
    "datos_entrenamiento.loc[0]"
   ]
  },
  {
   "cell_type": "code",
   "execution_count": null,
   "metadata": {
    "scrolled": true
   },
   "outputs": [],
   "source": [
    "variables_polinomiales[0]"
   ]
  },
  {
   "cell_type": "code",
   "execution_count": null,
   "metadata": {},
   "outputs": [],
   "source": [
    "variables_polinomiales = PolynomialFeatures(5).fit_transform(\n",
    "    datos_entrenamiento)"
   ]
  },
  {
   "cell_type": "code",
   "execution_count": null,
   "metadata": {},
   "outputs": [],
   "source": [
    "variables_polinomiales.shape"
   ]
  },
  {
   "cell_type": "markdown",
   "metadata": {},
   "source": [
    "Ahora vamos a evaluar los distintos tipos de regularizacion"
   ]
  },
  {
   "cell_type": "markdown",
   "metadata": {},
   "source": [
    "**Modelo OLS con variables polinomiales**"
   ]
  },
  {
   "cell_type": "code",
   "execution_count": null,
   "metadata": {},
   "outputs": [],
   "source": [
    "RESULTADOS = {}"
   ]
  },
  {
   "cell_type": "code",
   "execution_count": null,
   "metadata": {
    "scrolled": true
   },
   "outputs": [],
   "source": [
    "modelo_ols = LinearRegression()\n",
    "modelo_ols.fit(variables_polinomiales, objetivo)\n",
    "print(modelo_ols.coef_)\n",
    "\n",
    "RESULTADOS[\"ols\"] = {\n",
    "    \"norma_l1\": norma_l1(modelo_ols.coef_),\n",
    "    \"norma_l2\": norma_l2(modelo_ols.coef_),\n",
    "}"
   ]
  },
  {
   "cell_type": "code",
   "execution_count": null,
   "metadata": {},
   "outputs": [],
   "source": [
    "RESULTADOS"
   ]
  },
  {
   "cell_type": "markdown",
   "metadata": {},
   "source": [
    "**Modelo Regularización L1 con variables polinomiales**"
   ]
  },
  {
   "cell_type": "code",
   "execution_count": null,
   "metadata": {},
   "outputs": [],
   "source": [
    "Lasso?"
   ]
  },
  {
   "cell_type": "code",
   "execution_count": null,
   "metadata": {
    "scrolled": true
   },
   "outputs": [],
   "source": [
    "modelo_l1 = Lasso(alpha=1.0, tol=0.01, max_iter=5000)\n",
    "modelo_l1.fit(variables_polinomiales, objetivo)\n",
    "print(modelo_l1.coef_)\n",
    "\n",
    "RESULTADOS[\"regularizacion_l1\"] = {\n",
    "    \"norma_l1\": norma_l1(modelo_l1.coef_),\n",
    "    \"norma_l2\": norma_l2(modelo_l1.coef_),\n",
    "}"
   ]
  },
  {
   "cell_type": "code",
   "execution_count": null,
   "metadata": {},
   "outputs": [],
   "source": [
    "RESULTADOS[\"regularizacion_l1\"]"
   ]
  },
  {
   "cell_type": "markdown",
   "metadata": {},
   "source": [
    "**Modelo Regularización L2 (Ridge)  con variables polinomiales**"
   ]
  },
  {
   "cell_type": "code",
   "execution_count": null,
   "metadata": {
    "scrolled": true
   },
   "outputs": [],
   "source": [
    "modelo_l2 = Ridge(alpha=1.0, tol=0.01, max_iter=5000)\n",
    "modelo_l2.fit(variables_polinomiales, objetivo)\n",
    "\n",
    "print(modelo_l2.coef_)\n",
    "RESULTADOS[\"regularizacion_l2\"] = {\n",
    "    \"norma_l1\": norma_l1(modelo_l2.coef_),\n",
    "    \"norma_l2\": norma_l2(modelo_l2.coef_),\n",
    "}"
   ]
  },
  {
   "cell_type": "code",
   "execution_count": null,
   "metadata": {},
   "outputs": [],
   "source": [
    "RESULTADOS[\"regularizacion_l2\"]"
   ]
  },
  {
   "cell_type": "markdown",
   "metadata": {},
   "source": [
    "**Regularización Elasticnet con variables polinomiales**"
   ]
  },
  {
   "cell_type": "code",
   "execution_count": null,
   "metadata": {},
   "outputs": [],
   "source": [
    "ElasticNet?"
   ]
  },
  {
   "cell_type": "code",
   "execution_count": null,
   "metadata": {
    "scrolled": true
   },
   "outputs": [],
   "source": [
    "modelo_elasticnet = ElasticNet(l1_ratio=0.5, tol=0.01,max_iter=5000)\n",
    "modelo_elasticnet.fit(variables_polinomiales, objetivo)\n",
    "print(modelo_elasticnet.coef_)\n",
    "\n",
    "RESULTADOS[\"regularizacion_elasticnet\"] = {\n",
    "    \"norma_l1\": norma_l1(modelo_elasticnet.coef_),\n",
    "    \"norma_l2\": norma_l2(modelo_elasticnet.coef_),\n",
    "}"
   ]
  },
  {
   "cell_type": "code",
   "execution_count": null,
   "metadata": {},
   "outputs": [],
   "source": [
    "RESULTADOS[\"regularizacion_elasticnet\"]"
   ]
  },
  {
   "cell_type": "code",
   "execution_count": null,
   "metadata": {},
   "outputs": [],
   "source": [
    "pd.set_option(\"display.float_format\", lambda x: str(round(x,6)))"
   ]
  },
  {
   "cell_type": "code",
   "execution_count": null,
   "metadata": {},
   "outputs": [],
   "source": [
    "resultados_df = pd.DataFrame(RESULTADOS).T\n",
    "l1_ols = resultados_df.loc[\"ols\", \"norma_l1\"]\n",
    "l2_ols = resultados_df.loc[\"ols\", \"norma_l2\"]\n",
    "\n",
    "resultados_df[\"pct_reduccion_l1\"] = 1-resultados_df.norma_l1 / l1_ols\n",
    "resultados_df[\"pct_reduccion_l2\"] = 1-resultados_df.norma_l2 / l2_ols\n",
    "\n",
    "resultados_df"
   ]
  }
 ],
 "metadata": {
  "kernelspec": {
   "display_name": "Python 3",
   "language": "python",
   "name": "python3"
  },
  "language_info": {
   "codemirror_mode": {
    "name": "ipython",
    "version": 3
   },
   "file_extension": ".py",
   "mimetype": "text/x-python",
   "name": "python",
   "nbconvert_exporter": "python",
   "pygments_lexer": "ipython3",
   "version": "3.7.7"
  }
 },
 "nbformat": 4,
 "nbformat_minor": 2
}
