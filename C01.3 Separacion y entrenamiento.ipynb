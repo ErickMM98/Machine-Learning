{
 "cells": [
  {
   "cell_type": "code",
   "execution_count": 1,
   "metadata": {},
   "outputs": [],
   "source": [
    "import numpy as np\n",
    "\n",
    "from sklearn.linear_model import LinearRegression\n",
    "from sklearn import metrics\n",
    "from sklearn import datasets"
   ]
  },
  {
   "cell_type": "code",
   "execution_count": 48,
   "metadata": {},
   "outputs": [
    {
     "data": {
      "text/plain": [
       "dict_keys(['data', 'target', 'feature_names', 'DESCR', 'filename'])"
      ]
     },
     "execution_count": 48,
     "metadata": {},
     "output_type": "execute_result"
    }
   ],
   "source": [
    "boston = datasets.load_boston()\n",
    "boston.keys()\n"
   ]
  },
  {
   "cell_type": "code",
   "execution_count": 47,
   "metadata": {},
   "outputs": [
    {
     "name": "stdout",
     "output_type": "stream",
     "text": [
      ".. _boston_dataset:\n",
      "\n",
      "Boston house prices dataset\n",
      "---------------------------\n",
      "\n",
      "**Data Set Characteristics:**  \n",
      "\n",
      "    :Number of Instances: 506 \n",
      "\n",
      "    :Number of Attributes: 13 numeric/categorical predictive. Median Value (attribute 14) is usually the target.\n",
      "\n",
      "    :Attribute Information (in order):\n",
      "        - CRIM     per capita crime rate by town\n",
      "        - ZN       proportion of residential land zoned for lots over 25,000 sq.ft.\n",
      "        - INDUS    proportion of non-retail business acres per town\n",
      "        - CHAS     Charles River dummy variable (= 1 if tract bounds river; 0 otherwise)\n",
      "        - NOX      nitric oxides concentration (parts per 10 million)\n",
      "        - RM       average number of rooms per dwelling\n",
      "        - AGE      proportion of owner-occupied units built prior to 1940\n",
      "        - DIS      weighted distances to five Boston employment centres\n",
      "        - RAD      index of accessibility to radial highways\n",
      "        - TAX      full-value property-tax rate per $10,000\n",
      "        - PTRATIO  pupil-teacher ratio by town\n",
      "        - B        1000(Bk - 0.63)^2 where Bk is the proportion of blacks by town\n",
      "        - LSTAT    % lower status of the population\n",
      "        - MEDV     Median value of owner-occupied homes in $1000's\n",
      "\n",
      "    :Missing Attribute Values: None\n",
      "\n",
      "    :Creator: Harrison, D. and Rubinfeld, D.L.\n",
      "\n",
      "This is a copy of UCI ML housing dataset.\n",
      "https://archive.ics.uci.edu/ml/machine-learning-databases/housing/\n",
      "\n",
      "\n",
      "This dataset was taken from the StatLib library which is maintained at Carnegie Mellon University.\n",
      "\n",
      "The Boston house-price data of Harrison, D. and Rubinfeld, D.L. 'Hedonic\n",
      "prices and the demand for clean air', J. Environ. Economics & Management,\n",
      "vol.5, 81-102, 1978.   Used in Belsley, Kuh & Welsch, 'Regression diagnostics\n",
      "...', Wiley, 1980.   N.B. Various transformations are used in the table on\n",
      "pages 244-261 of the latter.\n",
      "\n",
      "The Boston house-price data has been used in many machine learning papers that address regression\n",
      "problems.   \n",
      "     \n",
      ".. topic:: References\n",
      "\n",
      "   - Belsley, Kuh & Welsch, 'Regression diagnostics: Identifying Influential Data and Sources of Collinearity', Wiley, 1980. 244-261.\n",
      "   - Quinlan,R. (1993). Combining Instance-Based and Model-Based Learning. In Proceedings on the Tenth International Conference of Machine Learning, 236-243, University of Massachusetts, Amherst. Morgan Kaufmann.\n",
      "\n"
     ]
    }
   ],
   "source": [
    "print(boston[\"DESCR\"])"
   ]
  },
  {
   "cell_type": "code",
   "execution_count": 14,
   "metadata": {},
   "outputs": [
    {
     "data": {
      "text/plain": [
       "array([[6.3200e-03, 1.8000e+01, 2.3100e+00, ..., 1.5300e+01, 3.9690e+02,\n",
       "        4.9800e+00],\n",
       "       [2.7310e-02, 0.0000e+00, 7.0700e+00, ..., 1.7800e+01, 3.9690e+02,\n",
       "        9.1400e+00],\n",
       "       [2.7290e-02, 0.0000e+00, 7.0700e+00, ..., 1.7800e+01, 3.9283e+02,\n",
       "        4.0300e+00],\n",
       "       ...,\n",
       "       [6.0760e-02, 0.0000e+00, 1.1930e+01, ..., 2.1000e+01, 3.9690e+02,\n",
       "        5.6400e+00],\n",
       "       [1.0959e-01, 0.0000e+00, 1.1930e+01, ..., 2.1000e+01, 3.9345e+02,\n",
       "        6.4800e+00],\n",
       "       [4.7410e-02, 0.0000e+00, 1.1930e+01, ..., 2.1000e+01, 3.9690e+02,\n",
       "        7.8800e+00]])"
      ]
     },
     "execution_count": 14,
     "metadata": {},
     "output_type": "execute_result"
    }
   ],
   "source": [
    "boston[\"data\"]"
   ]
  },
  {
   "cell_type": "code",
   "execution_count": 9,
   "metadata": {},
   "outputs": [],
   "source": [
    "def rmse(objetivo, estimaciones):\n",
    "    return np.sqrt(metrics.mean_squared_error(objetivo, estimaciones)\n",
    "                  )\n",
    "\n",
    "def adjusted_r2(objetivo, estimaciones, n, k):\n",
    "    r2 = metrics.r2_score(objetivo, estimaciones)\n",
    "    return 1 - (1-r2)*(n-1) / (n - k - 1)\n",
    "\n",
    "def evaluar_modelo(objetivo, estimaciones, n, k):\n",
    "    return {\n",
    "        \"rmse\": rmse(objetivo, estimaciones),\n",
    "        \"mae\": metrics.mean_absolute_error(objetivo, estimaciones),\n",
    "        \"adjusted_r2\": adjusted_r2(objetivo, estimaciones, n, k)\n",
    "           }"
   ]
  },
  {
   "cell_type": "code",
   "execution_count": 49,
   "metadata": {},
   "outputs": [],
   "source": [
    "modelo_ols = LinearRegression()\n",
    "\n",
    "modelo_ols.fit(X=boston[\"data\"], y=boston[\"target\"])\n",
    "\n",
    "modelo_ols_preds = modelo_ols.predict(boston[\"data\"])"
   ]
  },
  {
   "cell_type": "code",
   "execution_count": 50,
   "metadata": {},
   "outputs": [],
   "source": [
    "RESULTADOS = {}"
   ]
  },
  {
   "cell_type": "code",
   "execution_count": 51,
   "metadata": {},
   "outputs": [
    {
     "data": {
      "text/plain": [
       "{'ols': {'rmse': 4.679191295697281,\n",
       "  'mae': 3.2708628109003115,\n",
       "  'adjusted_r2': 0.733789726372463}}"
      ]
     },
     "execution_count": 51,
     "metadata": {},
     "output_type": "execute_result"
    }
   ],
   "source": [
    "N = boston[\"data\"].shape[0]\n",
    "\n",
    "RESULTADOS[\"ols\"] = evaluar_modelo(\n",
    "    boston[\"target\"],\n",
    "    modelo_ols_preds,\n",
    "    N,\n",
    "    len(modelo_ols.coef_)\n",
    ")\n",
    "\n",
    "RESULTADOS"
   ]
  },
  {
   "cell_type": "markdown",
   "metadata": {},
   "source": [
    "Hasta este momento hemos usado todos los datos como entrenamiento, de modo que posiblemente tengamos problemas de sobreajuste y por lo tanto tengamos errores si introducimos datos nuevos. Lo que haremos entonces es dividir la tabla para reentrenar el modelo."
   ]
  },
  {
   "cell_type": "code",
   "execution_count": 52,
   "metadata": {},
   "outputs": [],
   "source": [
    "from sklearn.model_selection import train_test_split"
   ]
  },
  {
   "cell_type": "code",
   "execution_count": 53,
   "metadata": {},
   "outputs": [],
   "source": [
    "train_test_split?"
   ]
  },
  {
   "cell_type": "code",
   "execution_count": 54,
   "metadata": {},
   "outputs": [
    {
     "data": {
      "text/plain": [
       "(506, 13)"
      ]
     },
     "execution_count": 54,
     "metadata": {},
     "output_type": "execute_result"
    }
   ],
   "source": [
    "boston[\"data\"].shape"
   ]
  },
  {
   "cell_type": "code",
   "execution_count": 55,
   "metadata": {},
   "outputs": [],
   "source": [
    "X_train, X_test, y_train, y_test = train_test_split(\n",
    "     boston[\"data\"], boston[\"target\"],\n",
    "     test_size=0.33, random_state=13\n",
    ")"
   ]
  },
  {
   "cell_type": "code",
   "execution_count": 56,
   "metadata": {},
   "outputs": [
    {
     "name": "stdout",
     "output_type": "stream",
     "text": [
      "(339, 13) (339,)\n"
     ]
    }
   ],
   "source": [
    "print(X_train.shape, y_train.shape)"
   ]
  },
  {
   "cell_type": "code",
   "execution_count": 57,
   "metadata": {},
   "outputs": [
    {
     "name": "stdout",
     "output_type": "stream",
     "text": [
      "(167, 13) (167,)\n"
     ]
    }
   ],
   "source": [
    "print(X_test.shape, y_test.shape)"
   ]
  },
  {
   "cell_type": "code",
   "execution_count": 58,
   "metadata": {},
   "outputs": [],
   "source": [
    "# Preparamos el modelo\n",
    "modelo_ols = LinearRegression()"
   ]
  },
  {
   "cell_type": "code",
   "execution_count": 59,
   "metadata": {},
   "outputs": [],
   "source": [
    "# Ajustamos el modelo entrenándolo\n",
    "modelo_ols.fit(X=X_train, y=y_train)\n",
    "modelo_ols_train_preds = modelo_ols.predict(X_train)\n",
    "\n",
    "# Obtenemos los resultados del modelo recién entrenado\n",
    "RESULTADOS[\"ols_train\"] = evaluar_modelo(\n",
    "    y_train,\n",
    "    modelo_ols_train_preds,\n",
    "    X_train.shape[0],\n",
    "    len(modelo_ols.coef_)\n",
    ")"
   ]
  },
  {
   "cell_type": "markdown",
   "metadata": {},
   "source": [
    "Hasta este momento, los coeficientes de la regresión en el modelo entrenado están guardados en ``modelo_ols.intercept_`` y ``modelo_ols.coef_``:"
   ]
  },
  {
   "cell_type": "code",
   "execution_count": 61,
   "metadata": {},
   "outputs": [
    {
     "data": {
      "text/plain": [
       "{'intercepcion': 37.343088054122056,\n",
       " 'coeficientes': array([-1.62247915e-01,  6.04934413e-02,  1.19068521e-02,  3.92827458e+00,\n",
       "        -1.21499389e+01,  3.40553680e+00,  5.85293339e-03, -1.43670161e+00,\n",
       "         3.69431633e-01, -1.41076708e-02, -9.75342185e-01,  8.27579593e-03,\n",
       "        -5.94871223e-01])}"
      ]
     },
     "execution_count": 61,
     "metadata": {},
     "output_type": "execute_result"
    }
   ],
   "source": [
    "{\"intercepcion\":modelo_ols.intercept_,\"coeficientes\":modelo_ols.coef_}"
   ]
  },
  {
   "cell_type": "markdown",
   "metadata": {},
   "source": [
    "Utilizando estos parámetros, aplicamos a ``X_test``, el conjunto de prueba, para obtener las predicciones."
   ]
  },
  {
   "cell_type": "code",
   "execution_count": 62,
   "metadata": {},
   "outputs": [],
   "source": [
    "modelo_ols_test_preds = modelo_ols.predict(X_test)\n",
    "\n",
    "RESULTADOS[\"ols_test\"] = evaluar_modelo(\n",
    "    y_test,\n",
    "    modelo_ols_test_preds,\n",
    "    X_test.shape[0],\n",
    "    len(modelo_ols.coef_)\n",
    ")"
   ]
  },
  {
   "cell_type": "code",
   "execution_count": 27,
   "metadata": {},
   "outputs": [],
   "source": [
    "import pandas as pd"
   ]
  },
  {
   "cell_type": "code",
   "execution_count": 28,
   "metadata": {},
   "outputs": [
    {
     "data": {
      "text/html": [
       "<div>\n",
       "<style scoped>\n",
       "    .dataframe tbody tr th:only-of-type {\n",
       "        vertical-align: middle;\n",
       "    }\n",
       "\n",
       "    .dataframe tbody tr th {\n",
       "        vertical-align: top;\n",
       "    }\n",
       "\n",
       "    .dataframe thead th {\n",
       "        text-align: right;\n",
       "    }\n",
       "</style>\n",
       "<table border=\"1\" class=\"dataframe\">\n",
       "  <thead>\n",
       "    <tr style=\"text-align: right;\">\n",
       "      <th></th>\n",
       "      <th>ols</th>\n",
       "      <th>ols_train</th>\n",
       "      <th>ols_test</th>\n",
       "    </tr>\n",
       "  </thead>\n",
       "  <tbody>\n",
       "    <tr>\n",
       "      <th>rmse</th>\n",
       "      <td>4.679191</td>\n",
       "      <td>4.721732</td>\n",
       "      <td>4.784178</td>\n",
       "    </tr>\n",
       "    <tr>\n",
       "      <th>mae</th>\n",
       "      <td>3.270863</td>\n",
       "      <td>3.300868</td>\n",
       "      <td>3.558434</td>\n",
       "    </tr>\n",
       "    <tr>\n",
       "      <th>adjusted_r2</th>\n",
       "      <td>0.733790</td>\n",
       "      <td>0.731491</td>\n",
       "      <td>0.688716</td>\n",
       "    </tr>\n",
       "  </tbody>\n",
       "</table>\n",
       "</div>"
      ],
      "text/plain": [
       "                  ols  ols_train  ols_test\n",
       "rmse         4.679191   4.721732  4.784178\n",
       "mae          3.270863   3.300868  3.558434\n",
       "adjusted_r2  0.733790   0.731491  0.688716"
      ]
     },
     "execution_count": 28,
     "metadata": {},
     "output_type": "execute_result"
    }
   ],
   "source": [
    "pd.DataFrame(RESULTADOS)"
   ]
  },
  {
   "cell_type": "markdown",
   "metadata": {},
   "source": [
    "Vemos que al separar los datos de entrenamiento y los de test se obtiene un resultado peor al evaluar los datos de train.\n",
    "\n",
    "Podríamos parar aquí y decir *\"El error RMSE de mi modelo es 4.787026\"*, y podríamos pensar que esta todo bien ya que no hemos entrenado el modelo en los datos que hemos usado para evaluarlo.\n",
    "\n",
    "Pero estaríamos en un grave error. ¿Por qué? \n",
    "\n",
    "Recordemos que hemos usado un `random_state=13` para la función `train_test_split` que garantiza que la separación de entrenamiento y test sea siempre la misma. Podemos usar cualquier número para este argumento.\n",
    "\n",
    "Qué pasa si usamos por ejemplo `random_state=42`?"
   ]
  },
  {
   "cell_type": "code",
   "execution_count": 64,
   "metadata": {},
   "outputs": [
    {
     "data": {
      "text/html": [
       "<div>\n",
       "<style scoped>\n",
       "    .dataframe tbody tr th:only-of-type {\n",
       "        vertical-align: middle;\n",
       "    }\n",
       "\n",
       "    .dataframe tbody tr th {\n",
       "        vertical-align: top;\n",
       "    }\n",
       "\n",
       "    .dataframe thead th {\n",
       "        text-align: right;\n",
       "    }\n",
       "</style>\n",
       "<table border=\"1\" class=\"dataframe\">\n",
       "  <thead>\n",
       "    <tr style=\"text-align: right;\">\n",
       "      <th></th>\n",
       "      <th>ols_train</th>\n",
       "      <th>ols_test</th>\n",
       "    </tr>\n",
       "  </thead>\n",
       "  <tbody>\n",
       "    <tr>\n",
       "      <th>rmse</th>\n",
       "      <td>4.794269</td>\n",
       "      <td>4.552365</td>\n",
       "    </tr>\n",
       "    <tr>\n",
       "      <th>mae</th>\n",
       "      <td>3.376419</td>\n",
       "      <td>3.148256</td>\n",
       "    </tr>\n",
       "    <tr>\n",
       "      <th>adjusted_r2</th>\n",
       "      <td>0.728804</td>\n",
       "      <td>0.702889</td>\n",
       "    </tr>\n",
       "  </tbody>\n",
       "</table>\n",
       "</div>"
      ],
      "text/plain": [
       "             ols_train  ols_test\n",
       "rmse          4.794269  4.552365\n",
       "mae           3.376419  3.148256\n",
       "adjusted_r2   0.728804  0.702889"
      ]
     },
     "execution_count": 64,
     "metadata": {},
     "output_type": "execute_result"
    }
   ],
   "source": [
    "RESULTADOS = {}\n",
    "\n",
    "X_train, X_test, y_train, y_test = train_test_split(\n",
    "     boston[\"data\"], boston[\"target\"],\n",
    "     test_size=0.33, random_state=42\n",
    ")\n",
    "\n",
    "\n",
    "modelo_ols = LinearRegression()\n",
    "modelo_ols.fit(X=X_train, y=y_train)\n",
    "modelo_ols_train_preds = modelo_ols.predict(X_train)\n",
    "modelo_ols_test_preds = modelo_ols.predict(X_test)\n",
    "\n",
    "\n",
    "RESULTADOS[\"ols_train\"] = evaluar_modelo(\n",
    "    y_train,\n",
    "    modelo_ols_train_preds,\n",
    "    X_train.shape[0],\n",
    "    len(modelo_ols.coef_)\n",
    ")\n",
    "\n",
    "RESULTADOS[\"ols_test\"] = evaluar_modelo(\n",
    "    y_test,\n",
    "    modelo_ols_test_preds,\n",
    "    X_test.shape[0],\n",
    "    len(modelo_ols.coef_)\n",
    ")\n",
    "\n",
    "\n",
    "pd.DataFrame(RESULTADOS)"
   ]
  },
  {
   "cell_type": "markdown",
   "metadata": {},
   "source": [
    "¡El error en los datos de test es menor que en los de entrenamiento! ¿Por qué? Sencillamente, por que ha dado la casualidad de que hemos separado los datos de una forma que los datos de test son muy fáciles de estimar."
   ]
  },
  {
   "cell_type": "markdown",
   "metadata": {},
   "source": [
    "Para ver la magnitud del error en el que estamos cayendo al hacer una sola separación entre test y entrenamiento, vamos a probar un monton de semillas y ver cual es el rango del error que se puede obtener "
   ]
  },
  {
   "cell_type": "code",
   "execution_count": 65,
   "metadata": {},
   "outputs": [],
   "source": [
    "model=LinearRegression()\n",
    "results = []\n",
    "def test_seed(seed):\n",
    "    X_train, X_test, y_train, y_test = train_test_split(\n",
    "     boston[\"data\"], boston[\"target\"],\n",
    "     test_size=0.33, random_state=seed\n",
    "    )\n",
    "    test_preds = model.fit(X_train, y_train).predict(X_test)\n",
    "    seed_rmse = rmse(y_test, test_preds)\n",
    "    results.append([seed_rmse, seed])"
   ]
  },
  {
   "cell_type": "code",
   "execution_count": 66,
   "metadata": {},
   "outputs": [],
   "source": [
    "for i in range(1000):\n",
    "    test_seed(i)"
   ]
  },
  {
   "cell_type": "code",
   "execution_count": 32,
   "metadata": {},
   "outputs": [
    {
     "data": {
      "text/plain": [
       "[[5.15350190084766, 0],\n",
       " [4.549557752626553, 1],\n",
       " [4.817966577147588, 2],\n",
       " [4.822833248024285, 3],\n",
       " [5.559184699608027, 4]]"
      ]
     },
     "execution_count": 32,
     "metadata": {},
     "output_type": "execute_result"
    }
   ],
   "source": [
    "results[:5]"
   ]
  },
  {
   "cell_type": "code",
   "execution_count": 67,
   "metadata": {},
   "outputs": [],
   "source": [
    "results_sorted = sorted(results, key=lambda x: x[0], reverse=False)"
   ]
  },
  {
   "cell_type": "code",
   "execution_count": 68,
   "metadata": {},
   "outputs": [
    {
     "data": {
      "text/plain": [
       "[3.631314217076934, 635]"
      ]
     },
     "execution_count": 68,
     "metadata": {},
     "output_type": "execute_result"
    }
   ],
   "source": [
    "results_sorted[0]"
   ]
  },
  {
   "cell_type": "code",
   "execution_count": 69,
   "metadata": {},
   "outputs": [
    {
     "data": {
      "text/plain": [
       "[6.788054714003143, 645]"
      ]
     },
     "execution_count": 69,
     "metadata": {},
     "output_type": "execute_result"
    }
   ],
   "source": [
    "results_sorted[-1]"
   ]
  },
  {
   "cell_type": "markdown",
   "metadata": {},
   "source": [
    "**Validación Cruzada (Cross Validation)**"
   ]
  },
  {
   "cell_type": "markdown",
   "metadata": {},
   "source": [
    "Vemos que entre la semilla con menor error de test y la semilla con mayor error hay una diferencia casi del doble!"
   ]
  },
  {
   "cell_type": "markdown",
   "metadata": {},
   "source": [
    "Una forma de evitar el cometer este error es mediante la **Validación cruzada**\n",
    "\n",
    "![cross_val](https://cdn-images-1.medium.com/max/1600/1*J2B_bcbd1-s1kpWOu_FZrg.png)"
   ]
  },
  {
   "cell_type": "code",
   "execution_count": 36,
   "metadata": {},
   "outputs": [],
   "source": [
    "from sklearn.model_selection import cross_val_score"
   ]
  },
  {
   "cell_type": "code",
   "execution_count": 37,
   "metadata": {},
   "outputs": [],
   "source": [
    "cross_val_score?"
   ]
  },
  {
   "cell_type": "code",
   "execution_count": 38,
   "metadata": {},
   "outputs": [],
   "source": [
    "modelo_ols = LinearRegression()\n",
    "X = boston[\"data\"]\n",
    "y = boston[\"target\"]\n",
    "\n",
    "resultados_validación_cruzada = cross_val_score(\n",
    "    estimator=modelo_ols, \n",
    "    X=X,\n",
    "    y=y,\n",
    "    scoring=\"neg_mean_squared_error\", \n",
    "    cv=10\n",
    ")"
   ]
  },
  {
   "cell_type": "code",
   "execution_count": 39,
   "metadata": {},
   "outputs": [
    {
     "data": {
      "text/plain": [
       "array([  -9.28694671,  -14.15128316,  -14.07360615,  -35.20692433,\n",
       "        -31.88511666,  -19.83587796,   -9.94726918, -168.37537954,\n",
       "        -33.32974507,  -10.96041068])"
      ]
     },
     "execution_count": 39,
     "metadata": {},
     "output_type": "execute_result"
    }
   ],
   "source": [
    "resultados_validación_cruzada"
   ]
  },
  {
   "cell_type": "code",
   "execution_count": 40,
   "metadata": {},
   "outputs": [
    {
     "data": {
      "text/plain": [
       "-34.705255944524815"
      ]
     },
     "execution_count": 40,
     "metadata": {},
     "output_type": "execute_result"
    }
   ],
   "source": [
    "resultados_validación_cruzada.mean()"
   ]
  },
  {
   "cell_type": "code",
   "execution_count": 41,
   "metadata": {},
   "outputs": [],
   "source": [
    "def rmse_cross_val(estimator, X, y):\n",
    "    y_pred = estimator.predict(X)\n",
    "    return np.sqrt(metrics.mean_squared_error(y, y_pred))"
   ]
  },
  {
   "cell_type": "code",
   "execution_count": 42,
   "metadata": {},
   "outputs": [],
   "source": [
    "resultados_cv = []\n",
    "for i in range(10,200):\n",
    "    cv_rmse = cross_val_score(\n",
    "        estimator=modelo_ols, \n",
    "        X=X,\n",
    "        y=y,\n",
    "        scoring=rmse_cross_val, \n",
    "        cv=i\n",
    "    ).mean()\n",
    "    resultados_cv.append(cv_rmse)"
   ]
  },
  {
   "cell_type": "code",
   "execution_count": 70,
   "metadata": {},
   "outputs": [],
   "source": [
    "#%matplotlib inline\n",
    "import matplotlib.pyplot as plt"
   ]
  },
  {
   "cell_type": "code",
   "execution_count": 72,
   "metadata": {},
   "outputs": [
    {
     "data": {
      "text/plain": [
       "[<matplotlib.lines.Line2D at 0x21ec1c2f6c8>]"
      ]
     },
     "execution_count": 72,
     "metadata": {},
     "output_type": "execute_result"
    },
    {
     "data": {
      "image/png": "[encoded data removed]",
      "text/plain": [
       "<Figure size 432x288 with 1 Axes>"
      ]
     },
     "metadata": {
      "needs_background": "light"
     },
     "output_type": "display_data"
    }
   ],
   "source": [
    "plt.plot(resultados_cv)"
   ]
  },
  {
   "cell_type": "code",
   "execution_count": 73,
   "metadata": {},
   "outputs": [],
   "source": [
    "cross_validate?"
   ]
  },
  {
   "cell_type": "code",
   "execution_count": 45,
   "metadata": {},
   "outputs": [],
   "source": [
    "from sklearn.model_selection import cross_validate\n",
    "scoring = {\"mae\": \"neg_mean_absolute_error\", \"rmse\": rmse_cross_val}\n",
    "estimator = modelo_ols\n",
    "scores = cross_validate(estimator, boston[\"data\"],\n",
    "                        boston[\"target\"], scoring=scoring,\n",
    "                         cv=100, return_train_score=True)"
   ]
  },
  {
   "cell_type": "code",
   "execution_count": 46,
   "metadata": {},
   "outputs": [
    {
     "data": {
      "text/plain": [
       "fit_time      0.000728\n",
       "score_time    0.000877\n",
       "test_mae     -3.511687\n",
       "train_mae    -3.270699\n",
       "test_rmse     4.184166\n",
       "train_rmse    4.676971\n",
       "dtype: float64"
      ]
     },
     "execution_count": 46,
     "metadata": {},
     "output_type": "execute_result"
    }
   ],
   "source": [
    "pd.DataFrame(scores).mean()"
   ]
  },
  {
   "cell_type": "code",
   "execution_count": null,
   "metadata": {
    "collapsed": true
   },
   "outputs": [],
   "source": []
  }
 ],
 "metadata": {
  "kernelspec": {
   "display_name": "Python 3",
   "language": "python",
   "name": "python3"
  },
  "language_info": {
   "codemirror_mode": {
    "name": "ipython",
    "version": 3
   },
   "file_extension": ".py",
   "mimetype": "text/x-python",
   "name": "python",
   "nbconvert_exporter": "python",
   "pygments_lexer": "ipython3",
   "version": "3.7.7"
  }
 },
 "nbformat": 4,
 "nbformat_minor": 2
}
