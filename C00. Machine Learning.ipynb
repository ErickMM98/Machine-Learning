{
 "cells": [
  {
   "cell_type": "markdown",
   "metadata": {},
   "source": [
    "<img src=\"logo.png\">"
   ]
  },
  {
   "cell_type": "markdown",
   "metadata": {},
   "source": [
    "# ¿Qué es el Machine Learning?\n",
    "\n",
    "Una vez que tenemos datos de los cuales ya hemos logrado algún conocimiento, el Machine Learning nos permitirá desarrollar modelos predictivos, entrenamiento de datos y evaluación de modelos.\n",
    "\n",
    "El Machine Learning (ML) es una rama de la Inteligencia Artificial (IA), cuyo objetivo general es dotar a una máquina de una inteligencia similar a la de un ser humano. En este sentido, el Machine Learning es una serie de técnicas matemáticas y estadísticas cuyo objetivo es dotar de esta inteligencia a una máquina, para lo cual se basa en datos históricos.  \n",
    "\n",
    "En cuanto al ML hay cuatro tipos de problemas, dependiendo del tipo de aprendizaje que se estudia. En este caso, el aprendizaje se divide en **supervisado** y **No supervisado**:\n",
    "* **Supervisado.** Tenemos datos de la variable objetivo que queremos aprender a predecir. Es decir, en los datos que utilizamos para entrenar, conocemos el valor de la variable objetivo.\n",
    "* **No supervisado.** No se conoce la variable objetivo de antemano.\n",
    "\n",
    "Dicho esto, los cuatro tipos de problemas son los siguientes:\n",
    "\n",
    "--|Variable Continua|Variable categórica|\n",
    "--|:--:|:--:|\n",
    "**Supervisado**|Regresión|Clasificación|\n",
    "**No supervisado**|Reducción de dimensionalidad|Clustering"
   ]
  },
  {
   "cell_type": "markdown",
   "metadata": {},
   "source": [
    "Algunos ejemplos de estas situaciones son:\n",
    "\n",
    "* **Regresión.** Predecir el precio de una vivienda en función de las características de la vivienda (área, distancia a ayuntamiento, etc.). \n",
    "\n",
    "\n",
    "* **Clasificación.** Tenemos datos de clientes y conozco si han comprado una vivienda o no, así que quiero predecir si cierto cliente comprará o no una vivienda calculando probabilidades.\n",
    "\n",
    "\n",
    "* **Clustering.** Agrupar a mis clientes en cierta cantidad de grupos sin saber qué características definen cada grupo.\n",
    "\n",
    "\n",
    "* **Reducción de dimensionalidad.** Tener una imagen muy grande y querer reducirla a una menor perdiendo la menor información posible."
   ]
  },
  {
   "cell_type": "markdown",
   "metadata": {},
   "source": [
    "<img src=\"ml01.png\">"
   ]
  }
 ],
 "metadata": {
  "kernelspec": {
   "display_name": "Python 3",
   "language": "python",
   "name": "python3"
  },
  "language_info": {
   "codemirror_mode": {
    "name": "ipython",
    "version": 3
   },
   "file_extension": ".py",
   "mimetype": "text/x-python",
   "name": "python",
   "nbconvert_exporter": "python",
   "pygments_lexer": "ipython3",
   "version": "3.7.7"
  }
 },
 "nbformat": 4,
 "nbformat_minor": 4
}
